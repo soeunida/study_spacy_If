{
 "cells": [
  {
   "cell_type": "code",
   "execution_count": 2,
   "source": [
    "import spacy\r\n",
    "nlp = spacy.load(\"en_core_web_md\")"
   ],
   "outputs": [],
   "metadata": {}
  },
  {
   "cell_type": "code",
   "execution_count": 3,
   "source": [
    "doc = nlp(\"Alicia and me went to the school by bus\")"
   ],
   "outputs": [],
   "metadata": {}
  },
  {
   "cell_type": "code",
   "execution_count": 9,
   "source": [
    "# pos : part of speech \r\n",
    "\r\n",
    "for token in doc:\r\n",
    "    print(token.text, \"\\t\", token.pos_, \"\\t\", token.tag_, \"\\t\", spacy.explain(token.pos_), \"\\t\\t\", spacy.explain(token.tag_))"
   ],
   "outputs": [
    {
     "output_type": "stream",
     "name": "stdout",
     "text": [
      "Alicia \t PROPN \t NNP \t proper noun \t\t noun, proper singular\n",
      "and \t CCONJ \t CC \t coordinating conjunction \t\t conjunction, coordinating\n",
      "me \t PRON \t PRP \t pronoun \t\t pronoun, personal\n",
      "went \t VERB \t VBD \t verb \t\t verb, past tense\n",
      "to \t ADP \t IN \t adposition \t\t conjunction, subordinating or preposition\n",
      "the \t DET \t DT \t determiner \t\t determiner\n",
      "school \t NOUN \t NN \t noun \t\t noun, singular or mass\n",
      "by \t ADP \t IN \t adposition \t\t conjunction, subordinating or preposition\n",
      "bus \t NOUN \t NN \t noun \t\t noun, singular or mass\n"
     ]
    }
   ],
   "metadata": {}
  },
  {
   "cell_type": "code",
   "execution_count": 11,
   "source": [
    "doc = nlp(\"My friend will fly to New York fast and she is staying there for 3 dyas.\")\r\n",
    "\r\n",
    "for token in doc:\r\n",
    "    print(token.text, \"\\t\", token.pos_, \"\\t\", token.tag_, \"\\t\", spacy.explain(token.pos_), \"\\t\\t\", spacy.explain(token.tag_))"
   ],
   "outputs": [
    {
     "output_type": "stream",
     "name": "stdout",
     "text": [
      "My \t PRON \t PRP$ \t pronoun \t\t pronoun, possessive\n",
      "friend \t NOUN \t NN \t noun \t\t noun, singular or mass\n",
      "will \t AUX \t MD \t auxiliary \t\t verb, modal auxiliary\n",
      "fly \t VERB \t VB \t verb \t\t verb, base form\n",
      "to \t ADP \t IN \t adposition \t\t conjunction, subordinating or preposition\n",
      "New \t PROPN \t NNP \t proper noun \t\t noun, proper singular\n",
      "York \t PROPN \t NNP \t proper noun \t\t noun, proper singular\n",
      "fast \t ADV \t RB \t adverb \t\t adverb\n",
      "and \t CCONJ \t CC \t coordinating conjunction \t\t conjunction, coordinating\n",
      "she \t PRON \t PRP \t pronoun \t\t pronoun, personal\n",
      "is \t AUX \t VBZ \t auxiliary \t\t verb, 3rd person singular present\n",
      "staying \t VERB \t VBG \t verb \t\t verb, gerund or present participle\n",
      "there \t ADV \t RB \t adverb \t\t adverb\n",
      "for \t ADP \t IN \t adposition \t\t conjunction, subordinating or preposition\n",
      "3 \t NUM \t CD \t numeral \t\t cardinal number\n",
      "dyas \t NOUN \t NN \t noun \t\t noun, singular or mass\n",
      ". \t PUNCT \t . \t punctuation \t\t punctuation mark, sentence closer\n"
     ]
    }
   ],
   "metadata": {}
  },
  {
   "cell_type": "code",
   "execution_count": null,
   "source": [
    "# lemma, stem\r\n",
    "# lemma : 단어의 base form을 찾는 것\r\n",
    "# stem : 단어의 어근을 의미\r\n",
    "# stem의 예 : university라는 단어의 lemma (university), stem(univers)\r\n",
    "# stem의 예 : universe라는 단어의 lemma (universe), stem(univer)\r\n",
    "# stem은 자체로는 완전한 단어의 형태는 아니지만, 의미는 가지고 있다.\r\n",
    "\r\n",
    "# Lemma Algorithm : 통사적인 문법적인 접근을 통해서 분석하는 방식, dictionary와 같은 vocabulary가 필요\r\n",
    "# Stem Algorithm : 언어의 문법적인 내용에 대해서는 상관하지 않는 방식, 단어의 suffix나 prefix를 추려낸 이후 처리하는 방식"
   ],
   "outputs": [],
   "metadata": {}
  },
  {
   "cell_type": "code",
   "execution_count": 12,
   "source": [
    "doc = nlp(\"I will ship the package tomorrow.\")\r\n",
    "\r\n",
    "for token in doc:\r\n",
    "    print(token.text, \"\\t\", token.pos_, \"\\t\", token.tag_, \"\\t\", spacy.explain(token.pos_), \"\\t\\t\", spacy.explain(token.tag_))"
   ],
   "outputs": [
    {
     "output_type": "stream",
     "name": "stdout",
     "text": [
      "I \t PRON \t PRP \t pronoun \t\t pronoun, personal\n",
      "will \t AUX \t MD \t auxiliary \t\t verb, modal auxiliary\n",
      "ship \t VERB \t VB \t verb \t\t verb, base form\n",
      "the \t DET \t DT \t determiner \t\t determiner\n",
      "package \t NOUN \t NN \t noun \t\t noun, singular or mass\n",
      "tomorrow \t NOUN \t NN \t noun \t\t noun, singular or mass\n",
      ". \t PUNCT \t . \t punctuation \t\t punctuation mark, sentence closer\n"
     ]
    }
   ],
   "metadata": {}
  },
  {
   "cell_type": "code",
   "execution_count": 13,
   "source": [
    "doc = nlp(\"I saw a red ship.\")\r\n",
    "\r\n",
    "for token in doc:\r\n",
    "    print(token.text, \"\\t\", token.pos_, \"\\t\", token.tag_, \"\\t\", spacy.explain(token.pos_), \"\\t\\t\", spacy.explain(token.tag_))"
   ],
   "outputs": [
    {
     "output_type": "stream",
     "name": "stdout",
     "text": [
      "I \t PRON \t PRP \t pronoun \t\t pronoun, personal\n",
      "saw \t VERB \t VBD \t verb \t\t verb, past tense\n",
      "a \t DET \t DT \t determiner \t\t determiner\n",
      "red \t ADJ \t JJ \t adjective \t\t adjective (English), other noun-modifier (Chinese)\n",
      "ship \t NOUN \t NN \t noun \t\t noun, singular or mass\n",
      ". \t PUNCT \t . \t punctuation \t\t punctuation mark, sentence closer\n"
     ]
    }
   ],
   "metadata": {}
  },
  {
   "cell_type": "code",
   "execution_count": 16,
   "source": [
    "doc = nlp(\"My cat will fish for a fish tomorrow in a fishy way.\")\r\n",
    "\r\n",
    "for token in doc:\r\n",
    "    print(token.text, \"\\t\", token.pos_, \"\\t\", token.tag_, \"\\t\", spacy.explain(token.pos_), \"\\t\\t\", spacy.explain(token.tag_))"
   ],
   "outputs": [
    {
     "output_type": "stream",
     "name": "stdout",
     "text": [
      "My \t PRON \t PRP$ \t pronoun \t\t pronoun, possessive\n",
      "cat \t NOUN \t NN \t noun \t\t noun, singular or mass\n",
      "will \t AUX \t MD \t auxiliary \t\t verb, modal auxiliary\n",
      "fish \t VERB \t VB \t verb \t\t verb, base form\n",
      "for \t ADP \t IN \t adposition \t\t conjunction, subordinating or preposition\n",
      "a \t DET \t DT \t determiner \t\t determiner\n",
      "fish \t NOUN \t NN \t noun \t\t noun, singular or mass\n",
      "tomorrow \t NOUN \t NN \t noun \t\t noun, singular or mass\n",
      "in \t ADP \t IN \t adposition \t\t conjunction, subordinating or preposition\n",
      "a \t DET \t DT \t determiner \t\t determiner\n",
      "fishy \t ADJ \t JJ \t adjective \t\t adjective (English), other noun-modifier (Chinese)\n",
      "way \t NOUN \t NN \t noun \t\t noun, singular or mass\n",
      ". \t PUNCT \t . \t punctuation \t\t punctuation mark, sentence closer\n"
     ]
    }
   ],
   "metadata": {}
  },
  {
   "cell_type": "code",
   "execution_count": null,
   "source": [
    "# POS : part of speech => 각 단어가 위치나 문장 구조 안에 형태에 따라 어떤 형식을 가지는 알아보았는데 \r\n",
    "# NLU에서 왜 중요할까?\r\n",
    "# Natural Language Understanding 측면에서 정확도를 높이기 위해서 필요하다!\r\n",
    "# 개떡같이 이야기를 했는데 찰떡알아듣는 애플리케이션을 만들고자 한다!\r\n",
    "# 위의 예제에서 동사로 사용한 fish와 명사로 사용한 fish는 한국어로 표현할 때 전혀다른 의미!\r\n",
    "# 동사 fish => 낚시 / 명사 fish => 물고기\r\n",
    "# 구문 정보 (syntactic information)이 pos에 영향을 가져왔다고 이야기할 수 있다."
   ],
   "outputs": [],
   "metadata": {}
  },
  {
   "cell_type": "code",
   "execution_count": null,
   "source": [
    "# WSD : Word-sense disambiguation 단어 의미 중의성 해소 \r\n",
    "# 단어들이 가진 중의성으로 인해 사람들도 다른 의미로 해석을 한다.\r\n",
    "# WSD problem : 자연어 처리에서 open problem, 복잡하고 통계적인 모델을 계속 연구하고 발표하고 있다.\r\n",
    "# \r\n",
    "# Bass - fish (Noun)\r\n",
    "# Bass - lowest male voice (Noun) \r\n",
    "# Bass - guitar (Noun)\r\n",
    "\r\n",
    "# fish - Verb\r\n",
    "# fish - Noun\r\n",
    "\r\n",
    "# sentence1 = \"I flew to Rome.\"\r\n",
    "# sentence2 = \"I'm flying to Rome.\"\r\n",
    "# sentence3 = \"I will fly to Rome.\"\r\n"
   ],
   "outputs": [],
   "metadata": {}
  },
  {
   "cell_type": "code",
   "execution_count": 24,
   "source": [
    "sentence1 = \"I flew to Rome.\"\r\n",
    "sentence2 = \"I'm flying to Rome.\"\r\n",
    "sentence3 = \"I will fly to Rome.\"\r\n",
    "\r\n",
    "doc1 = nlp(sentence1)\r\n",
    "doc2 = nlp(sentence2)\r\n",
    "doc3 = nlp(sentence3)\r\n",
    "\r\n",
    "for doc in [doc1, doc2, doc3]:\r\n",
    "    print( [(w.text, w.lemma_) for w in doc if w.tag_ == \"VBG\" or w.tag_ == \"VB\"])"
   ],
   "outputs": [
    {
     "output_type": "stream",
     "name": "stdout",
     "text": [
      "[]\n",
      "[('flying', 'fly')]\n",
      "[('fly', 'fly')]\n"
     ]
    }
   ],
   "metadata": {}
  },
  {
   "cell_type": "code",
   "execution_count": 26,
   "source": [
    "doc = nlp(\"He earned $5.5 million in 2020 and paid %35 max.\")\r\n",
    "\r\n",
    "for token in doc:\r\n",
    "    print(token.text, token.tag_, spacy.explain(token.tag_))"
   ],
   "outputs": [
    {
     "output_type": "stream",
     "name": "stdout",
     "text": [
      "He PRP pronoun, personal\n",
      "earned VBD verb, past tense\n",
      "$ $ symbol, currency\n",
      "5.5 CD cardinal number\n",
      "million CD cardinal number\n",
      "in IN conjunction, subordinating or preposition\n",
      "2020 CD cardinal number\n",
      "and CC conjunction, coordinating\n",
      "paid VBD verb, past tense\n",
      "% NN noun, singular or mass\n",
      "35 CD cardinal number\n",
      "max NN noun, singular or mass\n",
      ". . punctuation mark, sentence closer\n"
     ]
    }
   ],
   "metadata": {}
  },
  {
   "cell_type": "code",
   "execution_count": 28,
   "source": [
    "doc = nlp(\"blue flower\")\r\n",
    "for token in doc:\r\n",
    "    print(token.text, token.dep_)"
   ],
   "outputs": [
    {
     "output_type": "stream",
     "name": "stdout",
     "text": [
      "blue amod\n",
      "flower ROOT\n"
     ]
    }
   ],
   "metadata": {}
  },
  {
   "cell_type": "code",
   "execution_count": 41,
   "source": [
    "# NE : name entity\r\n",
    "doc = nlp(\"The president Donald Trump visited France.\")\r\n",
    "doc.ents\r\n",
    "print(doc[-2].ent_type_, spacy.explain(doc[-2].ent_type_))"
   ],
   "outputs": [
    {
     "output_type": "stream",
     "name": "stdout",
     "text": [
      "GPE Countries, cities, states\n"
     ]
    }
   ],
   "metadata": {}
  },
  {
   "cell_type": "code",
   "execution_count": 33,
   "source": [
    "spacy.explain(\"ORG\")"
   ],
   "outputs": [
    {
     "output_type": "execute_result",
     "data": {
      "text/plain": [
       "'Companies, agencies, institutions, etc.'"
      ]
     },
     "metadata": {},
     "execution_count": 33
    }
   ],
   "metadata": {}
  },
  {
   "cell_type": "code",
   "execution_count": 39,
   "source": [
    "doc = nlp(\"He worked for NASA.\")\r\n",
    "print(doc.ents)\r\n",
    "print(doc[3])\r\n",
    "print(doc[3].ent_type_, spacy.explain(doc[3].ent_type_))\r\n"
   ],
   "outputs": [
    {
     "output_type": "stream",
     "name": "stdout",
     "text": [
      "(NASA,)\n",
      "NASA\n",
      "ORG Companies, agencies, institutions, etc.\n"
     ]
    }
   ],
   "metadata": {}
  },
  {
   "cell_type": "code",
   "execution_count": null,
   "source": [
    "# 많이 사용되는 entity type\r\n",
    "# PER : Named person or family\r\n",
    "# LOC \r\n",
    "# ORG\r\n",
    "# MISC : 기타 등등"
   ],
   "outputs": [],
   "metadata": {}
  },
  {
   "cell_type": "code",
   "execution_count": 44,
   "source": [
    "doc = nlp(\"Albert Einstein was born in Ulm on 1879. He studied electronical engineering at ETH Zurich.\")\r\n",
    "doc.ents, doc[0]"
   ],
   "outputs": [
    {
     "output_type": "execute_result",
     "data": {
      "text/plain": [
       "((Albert Einstein, Ulm, 1879, ETH Zurich), Albert)"
      ]
     },
     "metadata": {},
     "execution_count": 44
    }
   ],
   "metadata": {}
  },
  {
   "cell_type": "code",
   "execution_count": 45,
   "source": [
    "for token in doc:\r\n",
    "    print(token.text, token.ent_type_, spacy.explain(token.ent_type_))"
   ],
   "outputs": [
    {
     "output_type": "stream",
     "name": "stdout",
     "text": [
      "Albert PERSON People, including fictional\n",
      "Einstein PERSON People, including fictional\n",
      "was  None\n",
      "born  None\n",
      "in  None\n",
      "Ulm GPE Countries, cities, states\n",
      "on  None\n",
      "1879 DATE Absolute or relative dates or periods\n",
      ".  None\n",
      "He  None\n",
      "studied  None\n",
      "electronical  None\n",
      "engineering  None\n",
      "at  None\n",
      "ETH ORG Companies, agencies, institutions, etc.\n",
      "Zurich ORG Companies, agencies, institutions, etc.\n",
      ".  None\n"
     ]
    }
   ],
   "metadata": {}
  },
  {
   "cell_type": "code",
   "execution_count": 47,
   "source": [
    "doc = nlp(\"Jean-Michel Basquiat was an American artist of Haitian and Puerto Rican descent who gained fame with his graffiti and street art work\")"
   ],
   "outputs": [],
   "metadata": {}
  },
  {
   "cell_type": "code",
   "execution_count": 49,
   "source": [
    "doc.ents, type(doc.ents)"
   ],
   "outputs": [
    {
     "output_type": "execute_result",
     "data": {
      "text/plain": [
       "((Jean-Michel Basquiat, American, Haitian, Puerto Rican), tuple)"
      ]
     },
     "metadata": {},
     "execution_count": 49
    }
   ],
   "metadata": {}
  },
  {
   "cell_type": "code",
   "execution_count": 52,
   "source": [
    "# SpaCy에서 다룰 수 있는 객체 : doc\r\n",
    "\r\n",
    "for ent in doc.ents:\r\n",
    "    print(ent, ent.label_, spacy.explain(ent.label_))"
   ],
   "outputs": [
    {
     "output_type": "stream",
     "name": "stdout",
     "text": [
      "Jean-Michel Basquiat PERSON People, including fictional\n",
      "American NORP Nationalities or religious or political groups\n",
      "Haitian NORP Nationalities or religious or political groups\n",
      "Puerto Rican NORP Nationalities or religious or political groups\n"
     ]
    }
   ],
   "metadata": {}
  },
  {
   "cell_type": "code",
   "execution_count": 53,
   "source": [
    "doc = nlp(\"Saturn is the sixth planet from the Sun and the second-largest in the Solar System, after Jupiter. It is a gas giant with an average radius about nine times that of Earth.\")\r\n",
    "doc.ents"
   ],
   "outputs": [
    {
     "output_type": "execute_result",
     "data": {
      "text/plain": [
       "(Saturn, sixth, Sun, second, the Solar System, Jupiter, about nine, Earth)"
      ]
     },
     "metadata": {},
     "execution_count": 53
    }
   ],
   "metadata": {}
  },
  {
   "cell_type": "code",
   "execution_count": 54,
   "source": [
    "for ent in doc.ents:\r\n",
    "    print(ent, ent.label_, spacy.explain(ent.label_))"
   ],
   "outputs": [
    {
     "output_type": "stream",
     "name": "stdout",
     "text": [
      "Saturn PRODUCT Objects, vehicles, foods, etc. (not services)\n",
      "sixth ORDINAL \"first\", \"second\", etc.\n",
      "Sun PERSON People, including fictional\n",
      "second ORDINAL \"first\", \"second\", etc.\n",
      "the Solar System ORG Companies, agencies, institutions, etc.\n",
      "Jupiter LOC Non-GPE locations, mountain ranges, bodies of water\n",
      "about nine CARDINAL Numerals that do not fall under another type\n",
      "Earth LOC Non-GPE locations, mountain ranges, bodies of water\n"
     ]
    }
   ],
   "metadata": {}
  },
  {
   "cell_type": "code",
   "execution_count": 55,
   "source": [
    "import spacy\r\n",
    "from spacy import displacy\r\n",
    "\r\n",
    "nlp = spacy.load(\"en_core_web_md\")\r\n",
    "doc = nlp(\"Bill Gates is the CEO of Microsoft.\")\r\n",
    "displacy.render(doc, style=\"ent\")\r\n"
   ],
   "outputs": [
    {
     "output_type": "display_data",
     "data": {
      "text/plain": [
       "<IPython.core.display.HTML object>"
      ],
      "text/html": [
       "<span class=\"tex2jax_ignore\"><div class=\"entities\" style=\"line-height: 2.5; direction: ltr\">\n",
       "<mark class=\"entity\" style=\"background: #aa9cfc; padding: 0.45em 0.6em; margin: 0 0.25em; line-height: 1; border-radius: 0.35em;\">\n",
       "    Bill Gates\n",
       "    <span style=\"font-size: 0.8em; font-weight: bold; line-height: 1; border-radius: 0.35em; vertical-align: middle; margin-left: 0.5rem\">PERSON</span>\n",
       "</mark>\n",
       " is the CEO of \n",
       "<mark class=\"entity\" style=\"background: #7aecec; padding: 0.45em 0.6em; margin: 0 0.25em; line-height: 1; border-radius: 0.35em;\">\n",
       "    Microsoft\n",
       "    <span style=\"font-size: 0.8em; font-weight: bold; line-height: 1; border-radius: 0.35em; vertical-align: middle; margin-left: 0.5rem\">ORG</span>\n",
       "</mark>\n",
       ".</div></span>"
      ]
     },
     "metadata": {}
    }
   ],
   "metadata": {}
  },
  {
   "cell_type": "code",
   "execution_count": 56,
   "source": [
    "import spacy\r\n",
    "from spacy import displacy\r\n",
    "\r\n",
    "nlp = spacy.load(\"en_core_web_md\")\r\n",
    "doc = nlp(\"I own a ginger cat.\")\r\n",
    "displacy.render(doc, style=\"dep\")"
   ],
   "outputs": [
    {
     "output_type": "display_data",
     "data": {
      "text/plain": [
       "<IPython.core.display.HTML object>"
      ],
      "text/html": [
       "<span class=\"tex2jax_ignore\"><svg xmlns=\"http://www.w3.org/2000/svg\" xmlns:xlink=\"http://www.w3.org/1999/xlink\" xml:lang=\"en\" id=\"907e0b75140c482ebbdc08901d31d185-0\" class=\"displacy\" width=\"925\" height=\"399.5\" direction=\"ltr\" style=\"max-width: none; height: 399.5px; color: #000000; background: #ffffff; font-family: Arial; direction: ltr\">\n",
       "<text class=\"displacy-token\" fill=\"currentColor\" text-anchor=\"middle\" y=\"309.5\">\n",
       "    <tspan class=\"displacy-word\" fill=\"currentColor\" x=\"50\">I</tspan>\n",
       "    <tspan class=\"displacy-tag\" dy=\"2em\" fill=\"currentColor\" x=\"50\">PRON</tspan>\n",
       "</text>\n",
       "\n",
       "<text class=\"displacy-token\" fill=\"currentColor\" text-anchor=\"middle\" y=\"309.5\">\n",
       "    <tspan class=\"displacy-word\" fill=\"currentColor\" x=\"225\">own</tspan>\n",
       "    <tspan class=\"displacy-tag\" dy=\"2em\" fill=\"currentColor\" x=\"225\">VERB</tspan>\n",
       "</text>\n",
       "\n",
       "<text class=\"displacy-token\" fill=\"currentColor\" text-anchor=\"middle\" y=\"309.5\">\n",
       "    <tspan class=\"displacy-word\" fill=\"currentColor\" x=\"400\">a</tspan>\n",
       "    <tspan class=\"displacy-tag\" dy=\"2em\" fill=\"currentColor\" x=\"400\">DET</tspan>\n",
       "</text>\n",
       "\n",
       "<text class=\"displacy-token\" fill=\"currentColor\" text-anchor=\"middle\" y=\"309.5\">\n",
       "    <tspan class=\"displacy-word\" fill=\"currentColor\" x=\"575\">ginger</tspan>\n",
       "    <tspan class=\"displacy-tag\" dy=\"2em\" fill=\"currentColor\" x=\"575\">NOUN</tspan>\n",
       "</text>\n",
       "\n",
       "<text class=\"displacy-token\" fill=\"currentColor\" text-anchor=\"middle\" y=\"309.5\">\n",
       "    <tspan class=\"displacy-word\" fill=\"currentColor\" x=\"750\">cat.</tspan>\n",
       "    <tspan class=\"displacy-tag\" dy=\"2em\" fill=\"currentColor\" x=\"750\">NOUN</tspan>\n",
       "</text>\n",
       "\n",
       "<g class=\"displacy-arrow\">\n",
       "    <path class=\"displacy-arc\" id=\"arrow-907e0b75140c482ebbdc08901d31d185-0-0\" stroke-width=\"2px\" d=\"M70,264.5 C70,177.0 215.0,177.0 215.0,264.5\" fill=\"none\" stroke=\"currentColor\"/>\n",
       "    <text dy=\"1.25em\" style=\"font-size: 0.8em; letter-spacing: 1px\">\n",
       "        <textPath xlink:href=\"#arrow-907e0b75140c482ebbdc08901d31d185-0-0\" class=\"displacy-label\" startOffset=\"50%\" side=\"left\" fill=\"currentColor\" text-anchor=\"middle\">nsubj</textPath>\n",
       "    </text>\n",
       "    <path class=\"displacy-arrowhead\" d=\"M70,266.5 L62,254.5 78,254.5\" fill=\"currentColor\"/>\n",
       "</g>\n",
       "\n",
       "<g class=\"displacy-arrow\">\n",
       "    <path class=\"displacy-arc\" id=\"arrow-907e0b75140c482ebbdc08901d31d185-0-1\" stroke-width=\"2px\" d=\"M420,264.5 C420,89.5 745.0,89.5 745.0,264.5\" fill=\"none\" stroke=\"currentColor\"/>\n",
       "    <text dy=\"1.25em\" style=\"font-size: 0.8em; letter-spacing: 1px\">\n",
       "        <textPath xlink:href=\"#arrow-907e0b75140c482ebbdc08901d31d185-0-1\" class=\"displacy-label\" startOffset=\"50%\" side=\"left\" fill=\"currentColor\" text-anchor=\"middle\">det</textPath>\n",
       "    </text>\n",
       "    <path class=\"displacy-arrowhead\" d=\"M420,266.5 L412,254.5 428,254.5\" fill=\"currentColor\"/>\n",
       "</g>\n",
       "\n",
       "<g class=\"displacy-arrow\">\n",
       "    <path class=\"displacy-arc\" id=\"arrow-907e0b75140c482ebbdc08901d31d185-0-2\" stroke-width=\"2px\" d=\"M595,264.5 C595,177.0 740.0,177.0 740.0,264.5\" fill=\"none\" stroke=\"currentColor\"/>\n",
       "    <text dy=\"1.25em\" style=\"font-size: 0.8em; letter-spacing: 1px\">\n",
       "        <textPath xlink:href=\"#arrow-907e0b75140c482ebbdc08901d31d185-0-2\" class=\"displacy-label\" startOffset=\"50%\" side=\"left\" fill=\"currentColor\" text-anchor=\"middle\">compound</textPath>\n",
       "    </text>\n",
       "    <path class=\"displacy-arrowhead\" d=\"M595,266.5 L587,254.5 603,254.5\" fill=\"currentColor\"/>\n",
       "</g>\n",
       "\n",
       "<g class=\"displacy-arrow\">\n",
       "    <path class=\"displacy-arc\" id=\"arrow-907e0b75140c482ebbdc08901d31d185-0-3\" stroke-width=\"2px\" d=\"M245,264.5 C245,2.0 750.0,2.0 750.0,264.5\" fill=\"none\" stroke=\"currentColor\"/>\n",
       "    <text dy=\"1.25em\" style=\"font-size: 0.8em; letter-spacing: 1px\">\n",
       "        <textPath xlink:href=\"#arrow-907e0b75140c482ebbdc08901d31d185-0-3\" class=\"displacy-label\" startOffset=\"50%\" side=\"left\" fill=\"currentColor\" text-anchor=\"middle\">dobj</textPath>\n",
       "    </text>\n",
       "    <path class=\"displacy-arrowhead\" d=\"M750.0,266.5 L758.0,254.5 742.0,254.5\" fill=\"currentColor\"/>\n",
       "</g>\n",
       "</svg></span>"
      ]
     },
     "metadata": {}
    }
   ],
   "metadata": {}
  },
  {
   "cell_type": "code",
   "execution_count": 57,
   "source": [
    "import spacy\r\n",
    "from spacy import displacy\r\n",
    "from pathlib import Path\r\n",
    "\r\n",
    "nlp = spacy.load(\"en_core_web_md\")\r\n",
    "doc = nlp(\"I'm a butterfly.\")\r\n",
    "svg = displacy.render(doc, style=\"dep\", jupyter = False)\r\n",
    "filename = \"butterfly.svg\"\r\n",
    "output_path = Path(filename)\r\n",
    "output_path.open(\"w\", encoding=\"utf-8\").write(svg)"
   ],
   "outputs": [
    {
     "output_type": "execute_result",
     "data": {
      "text/plain": [
       "3023"
      ]
     },
     "metadata": {},
     "execution_count": 57
    }
   ],
   "metadata": {}
  },
  {
   "cell_type": "code",
   "execution_count": null,
   "source": [],
   "outputs": [],
   "metadata": {}
  }
 ],
 "metadata": {
  "orig_nbformat": 4,
  "language_info": {
   "name": "python",
   "version": "3.9.4",
   "mimetype": "text/x-python",
   "codemirror_mode": {
    "name": "ipython",
    "version": 3
   },
   "pygments_lexer": "ipython3",
   "nbconvert_exporter": "python",
   "file_extension": ".py"
  },
  "kernelspec": {
   "name": "python3",
   "display_name": "Python 3.9.4 64-bit ('venv_20210725': venv)"
  },
  "interpreter": {
   "hash": "b2c46294d02003512898a675212ce284c66238a44ec8c080f36cf0db005bb14d"
  }
 },
 "nbformat": 4,
 "nbformat_minor": 2
}